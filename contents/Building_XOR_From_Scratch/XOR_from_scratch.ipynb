{
  "nbformat": 4,
  "nbformat_minor": 0,
  "metadata": {
    "colab": {
      "provenance": []
    },
    "kernelspec": {
      "name": "python3",
      "display_name": "Python 3"
    },
    "language_info": {
      "name": "python"
    }
  },
  "cells": [
    {
      "cell_type": "markdown",
      "source": [
        "# Build Model"
      ],
      "metadata": {
        "id": "OYjQdblMmt1o"
      }
    },
    {
      "cell_type": "markdown",
      "source": [
        "## Imports"
      ],
      "metadata": {
        "id": "AOJ9cidFN2fl"
      }
    },
    {
      "cell_type": "code",
      "execution_count": 1,
      "metadata": {
        "id": "JxqVNYZ4Nx4j"
      },
      "outputs": [],
      "source": [
        "import numpy as np\n",
        "import matplotlib.pyplot as plt"
      ]
    },
    {
      "cell_type": "markdown",
      "source": [
        "## Neuron definition"
      ],
      "metadata": {
        "id": "3VW_7P5RN8HU"
      }
    },
    {
      "cell_type": "code",
      "source": [
        "class Neuron:\n",
        "    def __init__(self, num_inputs):\n",
        "        self.weights = np.random.uniform(size=num_inputs)\n",
        "        self.bias = np.random.uniform()\n",
        "\n",
        "    def activate(self, inputs):\n",
        "        self.inputs = inputs\n",
        "        self.output = self.sigmoid(np.dot(inputs, self.weights) + self.bias)\n",
        "        return self.output\n",
        "\n",
        "    def sigmoid(self, x):\n",
        "        return 1 / (1 + np.exp(-x))\n",
        "\n",
        "    def sigmoid_derivative(self):\n",
        "        return self.output * (1 - self.output)\n",
        "\n",
        "    def update_weights(self, delta, learning_rate):\n",
        "        self.weights += learning_rate * delta * self.inputs\n",
        "        self.bias += learning_rate * delta"
      ],
      "metadata": {
        "id": "clLMw7UgN2DS"
      },
      "execution_count": 2,
      "outputs": []
    },
    {
      "cell_type": "markdown",
      "source": [
        "## Layer definition"
      ],
      "metadata": {
        "id": "LDIeUDQxml05"
      }
    },
    {
      "cell_type": "code",
      "source": [
        "class Layer:\n",
        "    def __init__(self, num_neurons, num_inputs_per_neuron):\n",
        "        self.neurons = [Neuron(num_inputs_per_neuron) for _ in range(num_neurons)]\n",
        "\n",
        "    def forward(self, inputs):\n",
        "        return np.array([neuron.activate(inputs) for neuron in self.neurons])\n",
        "\n",
        "    def backward(self, errors, learning_rate):\n",
        "        deltas = []\n",
        "        for i, neuron in enumerate(self.neurons):\n",
        "            delta = errors[i] * neuron.sigmoid_derivative()\n",
        "            neuron.update_weights(delta, learning_rate)\n",
        "            deltas.append(delta)\n",
        "        return np.dot(np.array([neuron.weights for neuron in self.neurons]).T, deltas)"
      ],
      "metadata": {
        "id": "67JRaqfUms2L"
      },
      "execution_count": 3,
      "outputs": []
    },
    {
      "cell_type": "markdown",
      "source": [
        "## Neural Network definition"
      ],
      "metadata": {
        "id": "zyqdbBEN0SAS"
      }
    },
    {
      "cell_type": "code",
      "source": [
        "class NeuralNetwork:\n",
        "    def __init__(self, layers, learning_rate=0.1, epochs=10000):\n",
        "        self.learning_rate = learning_rate\n",
        "        self.epochs = epochs\n",
        "        self.layers = []\n",
        "\n",
        "        # Initialize layers\n",
        "        for i in range(len(layers) - 1):\n",
        "            self.layers.append(Layer(layers[i+1], layers[i]))\n",
        "\n",
        "    def train(self, inputs, outputs):\n",
        "        for epoch in range(self.epochs):\n",
        "            total_error = 0\n",
        "            for x, y in zip(inputs, outputs):\n",
        "                # Forward pass\n",
        "                activations = [x]\n",
        "                for layer in self.layers:\n",
        "                    activations.append(layer.forward(activations[-1]))\n",
        "\n",
        "                # Calculate error\n",
        "                output_errors = y - activations[-1]\n",
        "                total_error += np.sum(output_errors ** 2)\n",
        "\n",
        "                # Backward pass\n",
        "                errors = output_errors\n",
        "                for i in reversed(range(len(self.layers))):\n",
        "                    errors = self.layers[i].backward(errors, self.learning_rate)\n",
        "\n",
        "            # Print MSE every 1000 epochs\n",
        "            if epoch % 1000 == 0:\n",
        "                mse = total_error / len(inputs)\n",
        "                print(f'Epoch {epoch}, MSE: {mse}')\n",
        "\n",
        "    def predict(self, inputs):\n",
        "        activations = inputs\n",
        "        for layer in self.layers:\n",
        "            activations = layer.forward(activations)\n",
        "        return activations"
      ],
      "metadata": {
        "id": "jh0A5iFW0XZi"
      },
      "execution_count": 4,
      "outputs": []
    },
    {
      "cell_type": "markdown",
      "source": [
        "# Initialization and Training"
      ],
      "metadata": {
        "id": "a5qp17VYSW26"
      }
    },
    {
      "cell_type": "markdown",
      "source": [
        "## Training Data preperation"
      ],
      "metadata": {
        "id": "Q7sDbBhWREjg"
      }
    },
    {
      "cell_type": "code",
      "source": [
        "inputs = np.array([[0, 0], [0, 1], [1, 0], [1, 1]])\n",
        "outputs = np.array([[0], [1], [1], [0]])"
      ],
      "metadata": {
        "id": "Cis_GzGLNNxk"
      },
      "execution_count": 5,
      "outputs": []
    },
    {
      "cell_type": "markdown",
      "source": [
        "## Train model"
      ],
      "metadata": {
        "id": "Muhe6ytzcaPH"
      }
    },
    {
      "cell_type": "code",
      "source": [
        "# Initialize the neural network with an input layer, one hidden layer, and an output layer\n",
        "layers = [2,2,1]  # 2 input neurons, 2 neurons in hidden layer, 1 output neuron\n",
        "nn = NeuralNetwork(layers,0.1,10000)\n",
        "\n",
        "# Train the neural network\n",
        "nn.train(inputs, outputs)"
      ],
      "metadata": {
        "colab": {
          "base_uri": "https://localhost:8080/"
        },
        "id": "4Yff56NjSWXd",
        "outputId": "1ace5c27-9b3e-4b15-8fcb-33a613d762b5"
      },
      "execution_count": 6,
      "outputs": [
        {
          "output_type": "stream",
          "name": "stdout",
          "text": [
            "Epoch 0, MSE: 0.31717307811644857\n",
            "Epoch 1000, MSE: 0.24818954390821452\n",
            "Epoch 2000, MSE: 0.22774775011634513\n",
            "Epoch 3000, MSE: 0.18910391921859943\n",
            "Epoch 4000, MSE: 0.1482752185806958\n",
            "Epoch 5000, MSE: 0.041664464539261425\n",
            "Epoch 6000, MSE: 0.01447421680794056\n",
            "Epoch 7000, MSE: 0.008000836045941647\n",
            "Epoch 8000, MSE: 0.005381826288133164\n",
            "Epoch 9000, MSE: 0.004006406802049665\n"
          ]
        }
      ]
    },
    {
      "cell_type": "markdown",
      "source": [
        "# Evaluation"
      ],
      "metadata": {
        "id": "D4WmJ9Y4ciGB"
      }
    },
    {
      "cell_type": "markdown",
      "source": [
        "## Simple test"
      ],
      "metadata": {
        "id": "XkF3SzZmgj4e"
      }
    },
    {
      "cell_type": "code",
      "source": [
        "# Test the neural network\n",
        "predicted_output = np.array([nn.predict(x) for x in inputs])\n",
        "print(\"Predicted Output:\\n\", predicted_output)"
      ],
      "metadata": {
        "colab": {
          "base_uri": "https://localhost:8080/"
        },
        "id": "6ssJdE3gckEo",
        "outputId": "7d8c2920-fddd-49ae-a4cf-f5151ebb9ddf"
      },
      "execution_count": 7,
      "outputs": [
        {
          "output_type": "stream",
          "name": "stdout",
          "text": [
            "Predicted Output:\n",
            " [[0.05771453]\n",
            " [0.94591799]\n",
            " [0.94580431]\n",
            " [0.05895737]]\n"
          ]
        }
      ]
    },
    {
      "cell_type": "markdown",
      "source": [
        "## Visualization"
      ],
      "metadata": {
        "id": "yUmPUcIgghS5"
      }
    },
    {
      "cell_type": "code",
      "source": [
        "# Round the predicted output to get binary predictions\n",
        "predicted_output_binary = np.round(predicted_output)\n",
        "\n",
        "# Plot the decision boundary\n",
        "x_min, x_max = inputs[:, 0].min() - 0.5, inputs[:, 0].max() + 0.5\n",
        "y_min, y_max = inputs[:, 1].min() - 0.5, inputs[:, 1].max() + 0.5\n",
        "xx, yy = np.meshgrid(np.arange(x_min, x_max, 0.1),\n",
        "                     np.arange(y_min, y_max, 0.1))\n",
        "Z = np.array([nn.predict(np.array([x, y])) for x, y in zip(xx.ravel(), yy.ravel())])\n",
        "Z = np.round(Z.reshape(xx.shape))\n",
        "\n",
        "plt.contourf(xx, yy, Z, cmap=plt.cm.Spectral)\n",
        "plt.scatter(inputs[:, 0], inputs[:, 1], c=outputs.ravel(), cmap=plt.cm.Spectral)\n",
        "plt.title(\"XOR Neural Network Decision Boundary\")\n",
        "plt.xlabel(\"Input 1\")\n",
        "plt.ylabel(\"Input 2\")\n",
        "plt.show()\n",
        "\n",
        "# Print the accuracy\n",
        "accuracy = np.mean(predicted_output_binary.ravel() == outputs.ravel())\n",
        "print(\"Accuracy:\", accuracy)\n"
      ],
      "metadata": {
        "colab": {
          "base_uri": "https://localhost:8080/",
          "height": 489
        },
        "id": "Kpscm7E0dSLb",
        "outputId": "c19df694-6a4f-45ef-91d4-cb43c4c9c5d9"
      },
      "execution_count": 8,
      "outputs": [
        {
          "output_type": "display_data",
          "data": {
            "text/plain": [
              "<Figure size 640x480 with 1 Axes>"
            ],
            "image/png": "[encoded data removed]"
          },
          "metadata": {}
        },
        {
          "output_type": "stream",
          "name": "stdout",
          "text": [
            "Accuracy: 1.0\n"
          ]
        }
      ]
    }
  ]
}